{
 "cells": [
  {
   "cell_type": "markdown",
   "metadata": {},
   "source": [
    "# AMS 561 Homework 5"
   ]
  },
  {
   "cell_type": "code",
   "execution_count": null,
   "metadata": {
    "collapsed": true
   },
   "outputs": [],
   "source": []
  },
  {
   "cell_type": "markdown",
   "metadata": {},
   "source": [
    "First, we will need to import the following libraries:"
   ]
  },
  {
   "cell_type": "code",
   "execution_count": 294,
   "metadata": {
    "collapsed": true
   },
   "outputs": [],
   "source": [
    "import pandas as pd\n",
    "import numpy as np\n",
    "\n",
    "import statsmodels.api as sm \n",
    "import statsmodels.formula.api as smf\n",
    "import statsmodels.graphics.api as smg\n",
    "\n",
    "import matplotlib.pyplot as plt\n",
    "%matplotlib inline"
   ]
  },
  {
   "cell_type": "markdown",
   "metadata": {},
   "source": [
    "## Problem 1  Warmup\n",
    "**1(a)** Create a pandas Series object with values given by the first 10 positive even integers (2, 4, ..., 20) and with indices given by the first 10 letters of English alphabet.  Display the result."
   ]
  },
  {
   "cell_type": "code",
   "execution_count": 295,
   "metadata": {},
   "outputs": [
    {
     "name": "stdout",
     "output_type": "stream",
     "text": [
      "a     2\n",
      "b     4\n",
      "c     6\n",
      "d     8\n",
      "e    10\n",
      "f    12\n",
      "g    14\n",
      "h    16\n",
      "i    18\n",
      "j    20\n",
      "dtype: int32\n"
     ]
    }
   ],
   "source": [
    "values=pd.Series(np.arange(2,21,2),index=list('abcdefghij'))\n",
    "print(values)"
   ]
  },
  {
   "cell_type": "markdown",
   "metadata": {},
   "source": [
    "**1(b)** 1) Create a pandas DataFrame object that represents the data from the table below:\n",
    "\n",
    "|Rank|Name| NetWorth_Mill | Age |\n",
    "|--|-------------------------------|\n",
    "|1 |Steven Spielberg  |3700 | 71 |\n",
    "|2 |Oprah Winfrey  |3200 | 64 |\n",
    "|3 |Paul McCartney |1200 | 75 |\n",
    "|4 |J.K. Rowling  |1000 | 62 |\n",
    "|5 |Jay-Z  |900 | 48 |\n",
    "\n",
    "(data from [source](https://list25.com/25-richest-celebrities-with-the-highest-net-worth/)). Use \"Rank\" as the indices. Display your result."
   ]
  },
  {
   "cell_type": "code",
   "execution_count": 296,
   "metadata": {
    "collapsed": true
   },
   "outputs": [],
   "source": [
    "worth=pd.DataFrame([[1,'Steven Spielberg',3700,71],[2, 'Oprah Winfrey',3200,64],\\\n",
    "                     [3, 'Paul McCartney', 1200,75], [4,'J.K Rowling', 1000, 62], [5, 'Jay-Z', 900,48]],\\\n",
    "                    columns=['Rank', 'Name','NetWorth_Mill', 'Age'])"
   ]
  },
  {
   "cell_type": "code",
   "execution_count": 297,
   "metadata": {
    "collapsed": true
   },
   "outputs": [],
   "source": [
    "worth=worth.set_index('Rank')"
   ]
  },
  {
   "cell_type": "code",
   "execution_count": 298,
   "metadata": {},
   "outputs": [
    {
     "data": {
      "text/html": [
       "<div>\n",
       "<style>\n",
       "    .dataframe thead tr:only-child th {\n",
       "        text-align: right;\n",
       "    }\n",
       "\n",
       "    .dataframe thead th {\n",
       "        text-align: left;\n",
       "    }\n",
       "\n",
       "    .dataframe tbody tr th {\n",
       "        vertical-align: top;\n",
       "    }\n",
       "</style>\n",
       "<table border=\"1\" class=\"dataframe\">\n",
       "  <thead>\n",
       "    <tr style=\"text-align: right;\">\n",
       "      <th></th>\n",
       "      <th>Name</th>\n",
       "      <th>NetWorth_Mill</th>\n",
       "      <th>Age</th>\n",
       "    </tr>\n",
       "    <tr>\n",
       "      <th>Rank</th>\n",
       "      <th></th>\n",
       "      <th></th>\n",
       "      <th></th>\n",
       "    </tr>\n",
       "  </thead>\n",
       "  <tbody>\n",
       "    <tr>\n",
       "      <th>1</th>\n",
       "      <td>Steven Spielberg</td>\n",
       "      <td>3700</td>\n",
       "      <td>71</td>\n",
       "    </tr>\n",
       "    <tr>\n",
       "      <th>2</th>\n",
       "      <td>Oprah Winfrey</td>\n",
       "      <td>3200</td>\n",
       "      <td>64</td>\n",
       "    </tr>\n",
       "    <tr>\n",
       "      <th>3</th>\n",
       "      <td>Paul McCartney</td>\n",
       "      <td>1200</td>\n",
       "      <td>75</td>\n",
       "    </tr>\n",
       "    <tr>\n",
       "      <th>4</th>\n",
       "      <td>J.K Rowling</td>\n",
       "      <td>1000</td>\n",
       "      <td>62</td>\n",
       "    </tr>\n",
       "    <tr>\n",
       "      <th>5</th>\n",
       "      <td>Jay-Z</td>\n",
       "      <td>900</td>\n",
       "      <td>48</td>\n",
       "    </tr>\n",
       "  </tbody>\n",
       "</table>\n",
       "</div>"
      ],
      "text/plain": [
       "                  Name  NetWorth_Mill  Age\n",
       "Rank                                      \n",
       "1     Steven Spielberg           3700   71\n",
       "2        Oprah Winfrey           3200   64\n",
       "3       Paul McCartney           1200   75\n",
       "4          J.K Rowling           1000   62\n",
       "5                Jay-Z            900   48"
      ]
     },
     "execution_count": 298,
     "metadata": {},
     "output_type": "execute_result"
    }
   ],
   "source": [
    "worth.head()"
   ]
  },
  {
   "cell_type": "markdown",
   "metadata": {},
   "source": [
    "2) There is actually a typo in J.K.Rowling's age. It should be 52 instead of 62. Make this correction in your DataFrame. Display the result."
   ]
  },
  {
   "cell_type": "code",
   "execution_count": 299,
   "metadata": {},
   "outputs": [
    {
     "data": {
      "text/html": [
       "<div>\n",
       "<style>\n",
       "    .dataframe thead tr:only-child th {\n",
       "        text-align: right;\n",
       "    }\n",
       "\n",
       "    .dataframe thead th {\n",
       "        text-align: left;\n",
       "    }\n",
       "\n",
       "    .dataframe tbody tr th {\n",
       "        vertical-align: top;\n",
       "    }\n",
       "</style>\n",
       "<table border=\"1\" class=\"dataframe\">\n",
       "  <thead>\n",
       "    <tr style=\"text-align: right;\">\n",
       "      <th></th>\n",
       "      <th>Name</th>\n",
       "      <th>NetWorth_Mill</th>\n",
       "      <th>Age</th>\n",
       "    </tr>\n",
       "    <tr>\n",
       "      <th>Rank</th>\n",
       "      <th></th>\n",
       "      <th></th>\n",
       "      <th></th>\n",
       "    </tr>\n",
       "  </thead>\n",
       "  <tbody>\n",
       "    <tr>\n",
       "      <th>1</th>\n",
       "      <td>Steven Spielberg</td>\n",
       "      <td>3700</td>\n",
       "      <td>71</td>\n",
       "    </tr>\n",
       "    <tr>\n",
       "      <th>2</th>\n",
       "      <td>Oprah Winfrey</td>\n",
       "      <td>3200</td>\n",
       "      <td>64</td>\n",
       "    </tr>\n",
       "    <tr>\n",
       "      <th>3</th>\n",
       "      <td>Paul McCartney</td>\n",
       "      <td>1200</td>\n",
       "      <td>75</td>\n",
       "    </tr>\n",
       "    <tr>\n",
       "      <th>4</th>\n",
       "      <td>J.K Rowling</td>\n",
       "      <td>1000</td>\n",
       "      <td>52</td>\n",
       "    </tr>\n",
       "    <tr>\n",
       "      <th>5</th>\n",
       "      <td>Jay-Z</td>\n",
       "      <td>900</td>\n",
       "      <td>48</td>\n",
       "    </tr>\n",
       "  </tbody>\n",
       "</table>\n",
       "</div>"
      ],
      "text/plain": [
       "                  Name  NetWorth_Mill  Age\n",
       "Rank                                      \n",
       "1     Steven Spielberg           3700   71\n",
       "2        Oprah Winfrey           3200   64\n",
       "3       Paul McCartney           1200   75\n",
       "4          J.K Rowling           1000   52\n",
       "5                Jay-Z            900   48"
      ]
     },
     "execution_count": 299,
     "metadata": {},
     "output_type": "execute_result"
    }
   ],
   "source": [
    "worth.loc[4,'Age']= 52\n",
    "worth"
   ]
  },
  {
   "cell_type": "markdown",
   "metadata": {},
   "source": [
    "3) Display only the 'NetWorth_Mill' column."
   ]
  },
  {
   "cell_type": "code",
   "execution_count": 300,
   "metadata": {},
   "outputs": [
    {
     "data": {
      "text/plain": [
       "Rank\n",
       "1    3700\n",
       "2    3200\n",
       "3    1200\n",
       "4    1000\n",
       "5     900\n",
       "Name: NetWorth_Mill, dtype: int64"
      ]
     },
     "execution_count": 300,
     "metadata": {},
     "output_type": "execute_result"
    }
   ],
   "source": [
    "worth['NetWorth_Mill']"
   ]
  },
  {
   "cell_type": "markdown",
   "metadata": {},
   "source": [
    "4) Compute the average age, mininum age, and maximum age of these top 5 peopole."
   ]
  },
  {
   "cell_type": "code",
   "execution_count": 301,
   "metadata": {},
   "outputs": [
    {
     "data": {
      "text/plain": [
       "62.0"
      ]
     },
     "execution_count": 301,
     "metadata": {},
     "output_type": "execute_result"
    }
   ],
   "source": [
    "worth['Age'].mean()"
   ]
  },
  {
   "cell_type": "code",
   "execution_count": 302,
   "metadata": {},
   "outputs": [
    {
     "data": {
      "text/plain": [
       "48"
      ]
     },
     "execution_count": 302,
     "metadata": {},
     "output_type": "execute_result"
    }
   ],
   "source": [
    "worth['Age'].min()"
   ]
  },
  {
   "cell_type": "code",
   "execution_count": 303,
   "metadata": {},
   "outputs": [
    {
     "data": {
      "text/plain": [
       "75"
      ]
     },
     "execution_count": 303,
     "metadata": {},
     "output_type": "execute_result"
    }
   ],
   "source": [
    "worth['Age'].max()"
   ]
  },
  {
   "cell_type": "code",
   "execution_count": null,
   "metadata": {
    "collapsed": true
   },
   "outputs": [],
   "source": []
  },
  {
   "cell_type": "markdown",
   "metadata": {},
   "source": [
    "5) Sort the 'Age' column in descending order. "
   ]
  },
  {
   "cell_type": "code",
   "execution_count": 304,
   "metadata": {},
   "outputs": [
    {
     "data": {
      "text/html": [
       "<div>\n",
       "<style>\n",
       "    .dataframe thead tr:only-child th {\n",
       "        text-align: right;\n",
       "    }\n",
       "\n",
       "    .dataframe thead th {\n",
       "        text-align: left;\n",
       "    }\n",
       "\n",
       "    .dataframe tbody tr th {\n",
       "        vertical-align: top;\n",
       "    }\n",
       "</style>\n",
       "<table border=\"1\" class=\"dataframe\">\n",
       "  <thead>\n",
       "    <tr style=\"text-align: right;\">\n",
       "      <th></th>\n",
       "      <th>Name</th>\n",
       "      <th>NetWorth_Mill</th>\n",
       "      <th>Age</th>\n",
       "    </tr>\n",
       "    <tr>\n",
       "      <th>Rank</th>\n",
       "      <th></th>\n",
       "      <th></th>\n",
       "      <th></th>\n",
       "    </tr>\n",
       "  </thead>\n",
       "  <tbody>\n",
       "    <tr>\n",
       "      <th>3</th>\n",
       "      <td>Paul McCartney</td>\n",
       "      <td>1200</td>\n",
       "      <td>75</td>\n",
       "    </tr>\n",
       "    <tr>\n",
       "      <th>1</th>\n",
       "      <td>Steven Spielberg</td>\n",
       "      <td>3700</td>\n",
       "      <td>71</td>\n",
       "    </tr>\n",
       "    <tr>\n",
       "      <th>2</th>\n",
       "      <td>Oprah Winfrey</td>\n",
       "      <td>3200</td>\n",
       "      <td>64</td>\n",
       "    </tr>\n",
       "    <tr>\n",
       "      <th>4</th>\n",
       "      <td>J.K Rowling</td>\n",
       "      <td>1000</td>\n",
       "      <td>52</td>\n",
       "    </tr>\n",
       "    <tr>\n",
       "      <th>5</th>\n",
       "      <td>Jay-Z</td>\n",
       "      <td>900</td>\n",
       "      <td>48</td>\n",
       "    </tr>\n",
       "  </tbody>\n",
       "</table>\n",
       "</div>"
      ],
      "text/plain": [
       "                  Name  NetWorth_Mill  Age\n",
       "Rank                                      \n",
       "3       Paul McCartney           1200   75\n",
       "1     Steven Spielberg           3700   71\n",
       "2        Oprah Winfrey           3200   64\n",
       "4          J.K Rowling           1000   52\n",
       "5                Jay-Z            900   48"
      ]
     },
     "execution_count": 304,
     "metadata": {},
     "output_type": "execute_result"
    }
   ],
   "source": [
    "worth.sort_values(['Age'],ascending=False).head()"
   ]
  },
  {
   "cell_type": "markdown",
   "metadata": {},
   "source": [
    "## Problem 2 : more on Pandas\n",
    "1) Download the file \"\"BoxOffice2017.csv\" to your current directory and use `read_csv` function in Pandas to read this csv file and create a DataFrame named \"df_box\""
   ]
  },
  {
   "cell_type": "code",
   "execution_count": 305,
   "metadata": {
    "collapsed": true
   },
   "outputs": [],
   "source": [
    "df_box=pd.read_csv('BoxOffice2017(1).csv')\n"
   ]
  },
  {
   "cell_type": "markdown",
   "metadata": {},
   "source": [
    "2) Use `info` method to get the summary of our DataFrame. How many columns are there?  How many rows of data? (Answer these questions in a Markdown cell.)"
   ]
  },
  {
   "cell_type": "code",
   "execution_count": 306,
   "metadata": {},
   "outputs": [
    {
     "name": "stdout",
     "output_type": "stream",
     "text": [
      "<class 'pandas.core.frame.DataFrame'>\n",
      "RangeIndex: 20 entries, 0 to 19\n",
      "Data columns (total 9 columns):\n",
      "Rank                      20 non-null int64\n",
      "Movie_Title               20 non-null object\n",
      "Studio                    20 non-null object\n",
      "Total Gross / Theaters    20 non-null object\n",
      "Unnamed: 4                20 non-null object\n",
      "Opening / Theaters        20 non-null object\n",
      "Unnamed: 6                20 non-null object\n",
      "Open                      20 non-null object\n",
      "Close                     20 non-null object\n",
      "dtypes: int64(1), object(8)\n",
      "memory usage: 1.5+ KB\n"
     ]
    }
   ],
   "source": [
    "df_box.info()"
   ]
  },
  {
   "cell_type": "markdown",
   "metadata": {},
   "source": [
    "There are 20 rows and 9 columns"
   ]
  },
  {
   "cell_type": "markdown",
   "metadata": {},
   "source": [
    "3) Display the first 5 rows of the data"
   ]
  },
  {
   "cell_type": "code",
   "execution_count": 307,
   "metadata": {},
   "outputs": [
    {
     "data": {
      "text/html": [
       "<div>\n",
       "<style>\n",
       "    .dataframe thead tr:only-child th {\n",
       "        text-align: right;\n",
       "    }\n",
       "\n",
       "    .dataframe thead th {\n",
       "        text-align: left;\n",
       "    }\n",
       "\n",
       "    .dataframe tbody tr th {\n",
       "        vertical-align: top;\n",
       "    }\n",
       "</style>\n",
       "<table border=\"1\" class=\"dataframe\">\n",
       "  <thead>\n",
       "    <tr style=\"text-align: right;\">\n",
       "      <th></th>\n",
       "      <th>Rank</th>\n",
       "      <th>Movie_Title</th>\n",
       "      <th>Studio</th>\n",
       "      <th>Total Gross / Theaters</th>\n",
       "      <th>Unnamed: 4</th>\n",
       "      <th>Opening / Theaters</th>\n",
       "      <th>Unnamed: 6</th>\n",
       "      <th>Open</th>\n",
       "      <th>Close</th>\n",
       "    </tr>\n",
       "  </thead>\n",
       "  <tbody>\n",
       "    <tr>\n",
       "      <th>0</th>\n",
       "      <td>1</td>\n",
       "      <td>Star Wars: The Last Jedi</td>\n",
       "      <td>BV</td>\n",
       "      <td>$620,013,653</td>\n",
       "      <td>4,232</td>\n",
       "      <td>$220,009,584</td>\n",
       "      <td>4,232</td>\n",
       "      <td>12/15/18</td>\n",
       "      <td>-</td>\n",
       "    </tr>\n",
       "    <tr>\n",
       "      <th>1</th>\n",
       "      <td>2</td>\n",
       "      <td>Beauty and the Beast (2017)</td>\n",
       "      <td>BV</td>\n",
       "      <td>$504,014,165</td>\n",
       "      <td>4,210</td>\n",
       "      <td>$174,750,616</td>\n",
       "      <td>4,210</td>\n",
       "      <td>3/17/18</td>\n",
       "      <td>7/13</td>\n",
       "    </tr>\n",
       "    <tr>\n",
       "      <th>2</th>\n",
       "      <td>3</td>\n",
       "      <td>Wonder Woman</td>\n",
       "      <td>WB</td>\n",
       "      <td>$412,563,408</td>\n",
       "      <td>4,165</td>\n",
       "      <td>$103,251,471</td>\n",
       "      <td>4,165</td>\n",
       "      <td>6/2/18</td>\n",
       "      <td>11/9</td>\n",
       "    </tr>\n",
       "    <tr>\n",
       "      <th>3</th>\n",
       "      <td>4</td>\n",
       "      <td>Jumanji: Welcome to the Jungle</td>\n",
       "      <td>Sony</td>\n",
       "      <td>$402,003,308</td>\n",
       "      <td>3,849</td>\n",
       "      <td>$36,169,328</td>\n",
       "      <td>3,765</td>\n",
       "      <td>12/20/18</td>\n",
       "      <td>-</td>\n",
       "    </tr>\n",
       "    <tr>\n",
       "      <th>4</th>\n",
       "      <td>5</td>\n",
       "      <td>Guardians of the Galaxy Vol. 2</td>\n",
       "      <td>BV</td>\n",
       "      <td>$389,813,101</td>\n",
       "      <td>4,347</td>\n",
       "      <td>$146,510,104</td>\n",
       "      <td>4,347</td>\n",
       "      <td>5/5/18</td>\n",
       "      <td>9/21</td>\n",
       "    </tr>\n",
       "  </tbody>\n",
       "</table>\n",
       "</div>"
      ],
      "text/plain": [
       "   Rank                     Movie_Title Studio Total Gross / Theaters  \\\n",
       "0     1        Star Wars: The Last Jedi     BV           $620,013,653   \n",
       "1     2     Beauty and the Beast (2017)     BV           $504,014,165   \n",
       "2     3                    Wonder Woman     WB           $412,563,408   \n",
       "3     4  Jumanji: Welcome to the Jungle   Sony           $402,003,308   \n",
       "4     5  Guardians of the Galaxy Vol. 2     BV           $389,813,101   \n",
       "\n",
       "  Unnamed: 4 Opening / Theaters Unnamed: 6      Open Close  \n",
       "0      4,232       $220,009,584      4,232  12/15/18     -  \n",
       "1      4,210       $174,750,616      4,210   3/17/18  7/13  \n",
       "2      4,165       $103,251,471      4,165    6/2/18  11/9  \n",
       "3      3,849        $36,169,328      3,765  12/20/18     -  \n",
       "4      4,347       $146,510,104      4,347    5/5/18  9/21  "
      ]
     },
     "execution_count": 307,
     "metadata": {},
     "output_type": "execute_result"
    }
   ],
   "source": [
    "df_box.head()"
   ]
  },
  {
   "cell_type": "markdown",
   "metadata": {},
   "source": [
    "4) It probably makes more sense if we use the \"Rank\" column as an index. Do this. "
   ]
  },
  {
   "cell_type": "code",
   "execution_count": 308,
   "metadata": {
    "collapsed": true
   },
   "outputs": [],
   "source": [
    "df_box=df_box.set_index('Rank')"
   ]
  },
  {
   "cell_type": "markdown",
   "metadata": {},
   "source": [
    "5) Let's raname some columns so that we can access them as attributes in Python.\n",
    "- Rename the column \"Total Gross / Theaters\" to \"Total_Gross\"\n",
    "- Raname the column \"Unnamed: 4\" (it's the column to the right of \"\"Total Gross / Theaters\") to \"Theaters_Total\"\n",
    "- Raname the column \"Opening / Theaters\" to \"Opening\"\n",
    "- Raname the column \"Unnamed: 6\" to \"Theaters_Opening\"\n",
    "- Display the first 5 rows to show the result. "
   ]
  },
  {
   "cell_type": "code",
   "execution_count": 309,
   "metadata": {},
   "outputs": [
    {
     "data": {
      "text/html": [
       "<div>\n",
       "<style>\n",
       "    .dataframe thead tr:only-child th {\n",
       "        text-align: right;\n",
       "    }\n",
       "\n",
       "    .dataframe thead th {\n",
       "        text-align: left;\n",
       "    }\n",
       "\n",
       "    .dataframe tbody tr th {\n",
       "        vertical-align: top;\n",
       "    }\n",
       "</style>\n",
       "<table border=\"1\" class=\"dataframe\">\n",
       "  <thead>\n",
       "    <tr style=\"text-align: right;\">\n",
       "      <th></th>\n",
       "      <th>Movie_Title</th>\n",
       "      <th>Studio</th>\n",
       "      <th>Total_Gross</th>\n",
       "      <th>Theaters_Total</th>\n",
       "      <th>Opening</th>\n",
       "      <th>Theaters_Opening</th>\n",
       "      <th>Open</th>\n",
       "      <th>Close</th>\n",
       "    </tr>\n",
       "    <tr>\n",
       "      <th>Rank</th>\n",
       "      <th></th>\n",
       "      <th></th>\n",
       "      <th></th>\n",
       "      <th></th>\n",
       "      <th></th>\n",
       "      <th></th>\n",
       "      <th></th>\n",
       "      <th></th>\n",
       "    </tr>\n",
       "  </thead>\n",
       "  <tbody>\n",
       "    <tr>\n",
       "      <th>1</th>\n",
       "      <td>Star Wars: The Last Jedi</td>\n",
       "      <td>BV</td>\n",
       "      <td>$620,013,653</td>\n",
       "      <td>4,232</td>\n",
       "      <td>$220,009,584</td>\n",
       "      <td>4,232</td>\n",
       "      <td>12/15/18</td>\n",
       "      <td>-</td>\n",
       "    </tr>\n",
       "    <tr>\n",
       "      <th>2</th>\n",
       "      <td>Beauty and the Beast (2017)</td>\n",
       "      <td>BV</td>\n",
       "      <td>$504,014,165</td>\n",
       "      <td>4,210</td>\n",
       "      <td>$174,750,616</td>\n",
       "      <td>4,210</td>\n",
       "      <td>3/17/18</td>\n",
       "      <td>7/13</td>\n",
       "    </tr>\n",
       "    <tr>\n",
       "      <th>3</th>\n",
       "      <td>Wonder Woman</td>\n",
       "      <td>WB</td>\n",
       "      <td>$412,563,408</td>\n",
       "      <td>4,165</td>\n",
       "      <td>$103,251,471</td>\n",
       "      <td>4,165</td>\n",
       "      <td>6/2/18</td>\n",
       "      <td>11/9</td>\n",
       "    </tr>\n",
       "    <tr>\n",
       "      <th>4</th>\n",
       "      <td>Jumanji: Welcome to the Jungle</td>\n",
       "      <td>Sony</td>\n",
       "      <td>$402,003,308</td>\n",
       "      <td>3,849</td>\n",
       "      <td>$36,169,328</td>\n",
       "      <td>3,765</td>\n",
       "      <td>12/20/18</td>\n",
       "      <td>-</td>\n",
       "    </tr>\n",
       "    <tr>\n",
       "      <th>5</th>\n",
       "      <td>Guardians of the Galaxy Vol. 2</td>\n",
       "      <td>BV</td>\n",
       "      <td>$389,813,101</td>\n",
       "      <td>4,347</td>\n",
       "      <td>$146,510,104</td>\n",
       "      <td>4,347</td>\n",
       "      <td>5/5/18</td>\n",
       "      <td>9/21</td>\n",
       "    </tr>\n",
       "  </tbody>\n",
       "</table>\n",
       "</div>"
      ],
      "text/plain": [
       "                         Movie_Title Studio   Total_Gross Theaters_Total  \\\n",
       "Rank                                                                       \n",
       "1           Star Wars: The Last Jedi     BV  $620,013,653          4,232   \n",
       "2        Beauty and the Beast (2017)     BV  $504,014,165          4,210   \n",
       "3                       Wonder Woman     WB  $412,563,408          4,165   \n",
       "4     Jumanji: Welcome to the Jungle   Sony  $402,003,308          3,849   \n",
       "5     Guardians of the Galaxy Vol. 2     BV  $389,813,101          4,347   \n",
       "\n",
       "           Opening Theaters_Opening      Open Close  \n",
       "Rank                                                 \n",
       "1     $220,009,584            4,232  12/15/18     -  \n",
       "2     $174,750,616            4,210   3/17/18  7/13  \n",
       "3     $103,251,471            4,165    6/2/18  11/9  \n",
       "4      $36,169,328            3,765  12/20/18     -  \n",
       "5     $146,510,104            4,347    5/5/18  9/21  "
      ]
     },
     "execution_count": 309,
     "metadata": {},
     "output_type": "execute_result"
    }
   ],
   "source": [
    "df_box=df_box.rename(columns={'Total Gross / Theaters':'Total_Gross', 'Unnamed: 4': 'Theaters_Total', 'Opening / Theaters': 'Opening', 'Unnamed: 6': 'Theaters_Opening'})\n",
    "\n",
    "df_box.head()\n",
    "                    "
   ]
  },
  {
   "cell_type": "markdown",
   "metadata": {},
   "source": [
    "6) Delete the columns \"Open\" and \"Close\" so that we have a cleaner data. "
   ]
  },
  {
   "cell_type": "code",
   "execution_count": 310,
   "metadata": {
    "collapsed": true
   },
   "outputs": [],
   "source": [
    "df_box=df_box.drop(['Open','Close'],axis=1)"
   ]
  },
  {
   "cell_type": "markdown",
   "metadata": {},
   "source": [
    "7) The columns that contain \"numbers\" are not of numerical type. We will convert them to integers. \n",
    "- In the \"Total_Gross\" and \"Opening\", remove the \"$\" and \",\" and casts the results to integers. Replace the original columns with the transformed columns.\n",
    "- In the \"Theaters_Total\" and \"Theaters_Opening\", remove the \",\" and casts the results to integers\n",
    "- Display the result with `df_box.head()`\n",
    "- Check the types of columns by using `df_box.info()` . (now you should  those columns are now of `int64`(integer) type) "
   ]
  },
  {
   "cell_type": "code",
   "execution_count": 311,
   "metadata": {
    "collapsed": true
   },
   "outputs": [],
   "source": [
    "df_box['Total_Gross']=df_box['Total_Gross'].apply(lambda x:(x.replace('$','')))"
   ]
  },
  {
   "cell_type": "code",
   "execution_count": 312,
   "metadata": {
    "collapsed": true
   },
   "outputs": [],
   "source": [
    "df_box['Total_Gross']=df_box['Total_Gross'].apply(lambda x:int(x.replace(',','')))"
   ]
  },
  {
   "cell_type": "code",
   "execution_count": 313,
   "metadata": {
    "collapsed": true
   },
   "outputs": [],
   "source": [
    "df_box['Opening']=df_box['Opening'].apply(lambda x:(x.replace('$','')))"
   ]
  },
  {
   "cell_type": "code",
   "execution_count": 314,
   "metadata": {
    "collapsed": true
   },
   "outputs": [],
   "source": [
    "df_box['Opening']=df_box['Opening'].apply(lambda x:int(x.replace(',','')))"
   ]
  },
  {
   "cell_type": "code",
   "execution_count": 315,
   "metadata": {
    "collapsed": true
   },
   "outputs": [],
   "source": [
    "df_box['Theaters_Total']=df_box['Theaters_Total'].apply(lambda x:int(x.replace(',','')))"
   ]
  },
  {
   "cell_type": "code",
   "execution_count": 316,
   "metadata": {
    "collapsed": true
   },
   "outputs": [],
   "source": [
    "df_box['Theaters_Opening']=df_box['Theaters_Opening'].apply(lambda x:int(x.replace(',','')))"
   ]
  },
  {
   "cell_type": "code",
   "execution_count": 317,
   "metadata": {},
   "outputs": [
    {
     "data": {
      "text/html": [
       "<div>\n",
       "<style>\n",
       "    .dataframe thead tr:only-child th {\n",
       "        text-align: right;\n",
       "    }\n",
       "\n",
       "    .dataframe thead th {\n",
       "        text-align: left;\n",
       "    }\n",
       "\n",
       "    .dataframe tbody tr th {\n",
       "        vertical-align: top;\n",
       "    }\n",
       "</style>\n",
       "<table border=\"1\" class=\"dataframe\">\n",
       "  <thead>\n",
       "    <tr style=\"text-align: right;\">\n",
       "      <th></th>\n",
       "      <th>Movie_Title</th>\n",
       "      <th>Studio</th>\n",
       "      <th>Total_Gross</th>\n",
       "      <th>Theaters_Total</th>\n",
       "      <th>Opening</th>\n",
       "      <th>Theaters_Opening</th>\n",
       "    </tr>\n",
       "    <tr>\n",
       "      <th>Rank</th>\n",
       "      <th></th>\n",
       "      <th></th>\n",
       "      <th></th>\n",
       "      <th></th>\n",
       "      <th></th>\n",
       "      <th></th>\n",
       "    </tr>\n",
       "  </thead>\n",
       "  <tbody>\n",
       "    <tr>\n",
       "      <th>1</th>\n",
       "      <td>Star Wars: The Last Jedi</td>\n",
       "      <td>BV</td>\n",
       "      <td>620013653</td>\n",
       "      <td>4232</td>\n",
       "      <td>220009584</td>\n",
       "      <td>4232</td>\n",
       "    </tr>\n",
       "    <tr>\n",
       "      <th>2</th>\n",
       "      <td>Beauty and the Beast (2017)</td>\n",
       "      <td>BV</td>\n",
       "      <td>504014165</td>\n",
       "      <td>4210</td>\n",
       "      <td>174750616</td>\n",
       "      <td>4210</td>\n",
       "    </tr>\n",
       "    <tr>\n",
       "      <th>3</th>\n",
       "      <td>Wonder Woman</td>\n",
       "      <td>WB</td>\n",
       "      <td>412563408</td>\n",
       "      <td>4165</td>\n",
       "      <td>103251471</td>\n",
       "      <td>4165</td>\n",
       "    </tr>\n",
       "    <tr>\n",
       "      <th>4</th>\n",
       "      <td>Jumanji: Welcome to the Jungle</td>\n",
       "      <td>Sony</td>\n",
       "      <td>402003308</td>\n",
       "      <td>3849</td>\n",
       "      <td>36169328</td>\n",
       "      <td>3765</td>\n",
       "    </tr>\n",
       "    <tr>\n",
       "      <th>5</th>\n",
       "      <td>Guardians of the Galaxy Vol. 2</td>\n",
       "      <td>BV</td>\n",
       "      <td>389813101</td>\n",
       "      <td>4347</td>\n",
       "      <td>146510104</td>\n",
       "      <td>4347</td>\n",
       "    </tr>\n",
       "  </tbody>\n",
       "</table>\n",
       "</div>"
      ],
      "text/plain": [
       "                         Movie_Title Studio  Total_Gross  Theaters_Total  \\\n",
       "Rank                                                                       \n",
       "1           Star Wars: The Last Jedi     BV    620013653            4232   \n",
       "2        Beauty and the Beast (2017)     BV    504014165            4210   \n",
       "3                       Wonder Woman     WB    412563408            4165   \n",
       "4     Jumanji: Welcome to the Jungle   Sony    402003308            3849   \n",
       "5     Guardians of the Galaxy Vol. 2     BV    389813101            4347   \n",
       "\n",
       "        Opening  Theaters_Opening  \n",
       "Rank                               \n",
       "1     220009584              4232  \n",
       "2     174750616              4210  \n",
       "3     103251471              4165  \n",
       "4      36169328              3765  \n",
       "5     146510104              4347  "
      ]
     },
     "execution_count": 317,
     "metadata": {},
     "output_type": "execute_result"
    }
   ],
   "source": [
    "df_box.head()"
   ]
  },
  {
   "cell_type": "code",
   "execution_count": 318,
   "metadata": {},
   "outputs": [
    {
     "name": "stdout",
     "output_type": "stream",
     "text": [
      "<class 'pandas.core.frame.DataFrame'>\n",
      "Int64Index: 20 entries, 1 to 20\n",
      "Data columns (total 6 columns):\n",
      "Movie_Title         20 non-null object\n",
      "Studio              20 non-null object\n",
      "Total_Gross         20 non-null int64\n",
      "Theaters_Total      20 non-null int64\n",
      "Opening             20 non-null int64\n",
      "Theaters_Opening    20 non-null int64\n",
      "dtypes: int64(4), object(2)\n",
      "memory usage: 1.1+ KB\n"
     ]
    }
   ],
   "source": [
    "df_box.info()"
   ]
  },
  {
   "cell_type": "markdown",
   "metadata": {},
   "source": [
    "8) Now we are ready to compute some statistics (of these top 20 movies). Write a code to answer the following questions:\n",
    "- What is the standard deviation of the total gross?\n",
    "- What is the mininum of \"Theaters_Total\"?\n",
    "- What is the maximum of \"Theaters_Opening\"?\n",
    "- What is the 80 percentile (0.8 quantile) of \"Opening\"?"
   ]
  },
  {
   "cell_type": "code",
   "execution_count": 319,
   "metadata": {},
   "outputs": [
    {
     "data": {
      "text/plain": [
       "127118287.10773635"
      ]
     },
     "execution_count": 319,
     "metadata": {},
     "output_type": "execute_result"
    }
   ],
   "source": [
    "df_box['Total_Gross'].std()"
   ]
  },
  {
   "cell_type": "code",
   "execution_count": 320,
   "metadata": {},
   "outputs": [
    {
     "data": {
      "text/plain": [
       "3143"
      ]
     },
     "execution_count": 320,
     "metadata": {},
     "output_type": "execute_result"
    }
   ],
   "source": [
    "df_box['Theaters_Total'].min()"
   ]
  },
  {
   "cell_type": "code",
   "execution_count": 321,
   "metadata": {},
   "outputs": [
    {
     "data": {
      "text/plain": [
       "4529"
      ]
     },
     "execution_count": 321,
     "metadata": {},
     "output_type": "execute_result"
    }
   ],
   "source": [
    "df_box['Theaters_Opening'].max()"
   ]
  },
  {
   "cell_type": "code",
   "execution_count": 322,
   "metadata": {},
   "outputs": [
    {
     "data": {
      "text/plain": [
       "122876675.0"
      ]
     },
     "execution_count": 322,
     "metadata": {},
     "output_type": "execute_result"
    }
   ],
   "source": [
    "df_box['Opening'].quantile(q=0.8)"
   ]
  },
  {
   "cell_type": "code",
   "execution_count": null,
   "metadata": {
    "collapsed": true
   },
   "outputs": [],
   "source": []
  },
  {
   "cell_type": "markdown",
   "metadata": {},
   "source": [
    "9) Write a code to find how many movies(in the top20) each studio made. (e.g. BV (Buenva Vista) produced 6 movies that were in the top20), ...)"
   ]
  },
  {
   "cell_type": "code",
   "execution_count": 323,
   "metadata": {},
   "outputs": [
    {
     "data": {
      "text/html": [
       "<div>\n",
       "<style>\n",
       "    .dataframe thead tr:only-child th {\n",
       "        text-align: right;\n",
       "    }\n",
       "\n",
       "    .dataframe thead th {\n",
       "        text-align: left;\n",
       "    }\n",
       "\n",
       "    .dataframe tbody tr th {\n",
       "        vertical-align: top;\n",
       "    }\n",
       "</style>\n",
       "<table border=\"1\" class=\"dataframe\">\n",
       "  <thead>\n",
       "    <tr style=\"text-align: right;\">\n",
       "      <th></th>\n",
       "      <th>Movie_Title</th>\n",
       "    </tr>\n",
       "    <tr>\n",
       "      <th>Studio</th>\n",
       "      <th></th>\n",
       "    </tr>\n",
       "  </thead>\n",
       "  <tbody>\n",
       "    <tr>\n",
       "      <th>BV</th>\n",
       "      <td>6</td>\n",
       "    </tr>\n",
       "    <tr>\n",
       "      <th>Fox</th>\n",
       "      <td>3</td>\n",
       "    </tr>\n",
       "    <tr>\n",
       "      <th>Sony</th>\n",
       "      <td>2</td>\n",
       "    </tr>\n",
       "    <tr>\n",
       "      <th>Uni.</th>\n",
       "      <td>3</td>\n",
       "    </tr>\n",
       "    <tr>\n",
       "      <th>WB</th>\n",
       "      <td>5</td>\n",
       "    </tr>\n",
       "    <tr>\n",
       "      <th>WB (NL)</th>\n",
       "      <td>1</td>\n",
       "    </tr>\n",
       "  </tbody>\n",
       "</table>\n",
       "</div>"
      ],
      "text/plain": [
       "         Movie_Title\n",
       "Studio              \n",
       "BV                 6\n",
       "Fox                3\n",
       "Sony               2\n",
       "Uni.               3\n",
       "WB                 5\n",
       "WB (NL)            1"
      ]
     },
     "execution_count": 323,
     "metadata": {},
     "output_type": "execute_result"
    }
   ],
   "source": [
    "df_box.pivot_table(index='Studio',values='Movie_Title',aggfunc='count')"
   ]
  },
  {
   "cell_type": "markdown",
   "metadata": {},
   "source": [
    "10) How much money (from Total_Gross) did each studio earn from all of their movies in the top20? (Note: to make it easy, you don't need to combine \"WB\" and \"WB(NL)\"). "
   ]
  },
  {
   "cell_type": "code",
   "execution_count": 324,
   "metadata": {
    "collapsed": true
   },
   "outputs": [],
   "source": [
    "studio_gross=df_box.pivot_table(index='Studio',values='Total_Gross',aggfunc='sum')"
   ]
  },
  {
   "cell_type": "code",
   "execution_count": 325,
   "metadata": {},
   "outputs": [
    {
     "data": {
      "text/html": [
       "<div>\n",
       "<style>\n",
       "    .dataframe thead tr:only-child th {\n",
       "        text-align: right;\n",
       "    }\n",
       "\n",
       "    .dataframe thead th {\n",
       "        text-align: left;\n",
       "    }\n",
       "\n",
       "    .dataframe tbody tr th {\n",
       "        vertical-align: top;\n",
       "    }\n",
       "</style>\n",
       "<table border=\"1\" class=\"dataframe\">\n",
       "  <thead>\n",
       "    <tr style=\"text-align: right;\">\n",
       "      <th></th>\n",
       "      <th>Total_Gross</th>\n",
       "    </tr>\n",
       "    <tr>\n",
       "      <th>Studio</th>\n",
       "      <th></th>\n",
       "    </tr>\n",
       "  </thead>\n",
       "  <tbody>\n",
       "    <tr>\n",
       "      <th>BV</th>\n",
       "      <td>2210865327</td>\n",
       "    </tr>\n",
       "    <tr>\n",
       "      <th>Fox</th>\n",
       "      <td>572551762</td>\n",
       "    </tr>\n",
       "    <tr>\n",
       "      <th>Sony</th>\n",
       "      <td>736204448</td>\n",
       "    </tr>\n",
       "    <tr>\n",
       "      <th>Uni.</th>\n",
       "      <td>666673350</td>\n",
       "    </tr>\n",
       "    <tr>\n",
       "      <th>WB</th>\n",
       "      <td>1173436445</td>\n",
       "    </tr>\n",
       "    <tr>\n",
       "      <th>WB (NL)</th>\n",
       "      <td>327481748</td>\n",
       "    </tr>\n",
       "  </tbody>\n",
       "</table>\n",
       "</div>"
      ],
      "text/plain": [
       "         Total_Gross\n",
       "Studio              \n",
       "BV        2210865327\n",
       "Fox        572551762\n",
       "Sony       736204448\n",
       "Uni.       666673350\n",
       "WB        1173436445\n",
       "WB (NL)    327481748"
      ]
     },
     "execution_count": 325,
     "metadata": {},
     "output_type": "execute_result"
    }
   ],
   "source": [
    "studio_gross"
   ]
  },
  {
   "cell_type": "markdown",
   "metadata": {},
   "source": [
    "11) Sort the \"Opening\" column in descending order (i.e., highest opening first) and display the data of the top 5 \"Opening\".  What movie has the third-highest opening?"
   ]
  },
  {
   "cell_type": "code",
   "execution_count": 326,
   "metadata": {
    "collapsed": true
   },
   "outputs": [],
   "source": [
    "box_opening=df_box.sort_values(\"Opening\",ascending=False)"
   ]
  },
  {
   "cell_type": "code",
   "execution_count": 327,
   "metadata": {},
   "outputs": [
    {
     "data": {
      "text/html": [
       "<div>\n",
       "<style>\n",
       "    .dataframe thead tr:only-child th {\n",
       "        text-align: right;\n",
       "    }\n",
       "\n",
       "    .dataframe thead th {\n",
       "        text-align: left;\n",
       "    }\n",
       "\n",
       "    .dataframe tbody tr th {\n",
       "        vertical-align: top;\n",
       "    }\n",
       "</style>\n",
       "<table border=\"1\" class=\"dataframe\">\n",
       "  <thead>\n",
       "    <tr style=\"text-align: right;\">\n",
       "      <th></th>\n",
       "      <th>Movie_Title</th>\n",
       "      <th>Studio</th>\n",
       "      <th>Total_Gross</th>\n",
       "      <th>Theaters_Total</th>\n",
       "      <th>Opening</th>\n",
       "      <th>Theaters_Opening</th>\n",
       "    </tr>\n",
       "    <tr>\n",
       "      <th>Rank</th>\n",
       "      <th></th>\n",
       "      <th></th>\n",
       "      <th></th>\n",
       "      <th></th>\n",
       "      <th></th>\n",
       "      <th></th>\n",
       "    </tr>\n",
       "  </thead>\n",
       "  <tbody>\n",
       "    <tr>\n",
       "      <th>1</th>\n",
       "      <td>Star Wars: The Last Jedi</td>\n",
       "      <td>BV</td>\n",
       "      <td>620013653</td>\n",
       "      <td>4232</td>\n",
       "      <td>220009584</td>\n",
       "      <td>4232</td>\n",
       "    </tr>\n",
       "    <tr>\n",
       "      <th>2</th>\n",
       "      <td>Beauty and the Beast (2017)</td>\n",
       "      <td>BV</td>\n",
       "      <td>504014165</td>\n",
       "      <td>4210</td>\n",
       "      <td>174750616</td>\n",
       "      <td>4210</td>\n",
       "    </tr>\n",
       "    <tr>\n",
       "      <th>5</th>\n",
       "      <td>Guardians of the Galaxy Vol. 2</td>\n",
       "      <td>BV</td>\n",
       "      <td>389813101</td>\n",
       "      <td>4347</td>\n",
       "      <td>146510104</td>\n",
       "      <td>4347</td>\n",
       "    </tr>\n",
       "    <tr>\n",
       "      <th>7</th>\n",
       "      <td>It</td>\n",
       "      <td>WB (NL)</td>\n",
       "      <td>327481748</td>\n",
       "      <td>4148</td>\n",
       "      <td>123403419</td>\n",
       "      <td>4103</td>\n",
       "    </tr>\n",
       "    <tr>\n",
       "      <th>8</th>\n",
       "      <td>Thor: Ragnarok</td>\n",
       "      <td>BV</td>\n",
       "      <td>315058289</td>\n",
       "      <td>4080</td>\n",
       "      <td>122744989</td>\n",
       "      <td>4080</td>\n",
       "    </tr>\n",
       "  </tbody>\n",
       "</table>\n",
       "</div>"
      ],
      "text/plain": [
       "                         Movie_Title   Studio  Total_Gross  Theaters_Total  \\\n",
       "Rank                                                                         \n",
       "1           Star Wars: The Last Jedi       BV    620013653            4232   \n",
       "2        Beauty and the Beast (2017)       BV    504014165            4210   \n",
       "5     Guardians of the Galaxy Vol. 2       BV    389813101            4347   \n",
       "7                                 It  WB (NL)    327481748            4148   \n",
       "8                     Thor: Ragnarok       BV    315058289            4080   \n",
       "\n",
       "        Opening  Theaters_Opening  \n",
       "Rank                               \n",
       "1     220009584              4232  \n",
       "2     174750616              4210  \n",
       "5     146510104              4347  \n",
       "7     123403419              4103  \n",
       "8     122744989              4080  "
      ]
     },
     "execution_count": 327,
     "metadata": {},
     "output_type": "execute_result"
    }
   ],
   "source": [
    "box_opening.head()"
   ]
  },
  {
   "cell_type": "code",
   "execution_count": 328,
   "metadata": {},
   "outputs": [
    {
     "data": {
      "text/plain": [
       "'Guardians of the Galaxy Vol. 2'"
      ]
     },
     "execution_count": 328,
     "metadata": {},
     "output_type": "execute_result"
    }
   ],
   "source": [
    "box_opening.iloc[2,df_box.columns.get_loc('Movie_Title')]"
   ]
  },
  {
   "cell_type": "markdown",
   "metadata": {},
   "source": [
    "12) Use the built-in pandas plotting tools (e.g. `plot` method) to make 2 bargraphs for \n",
    "1. The top 10 highest-grossing movies with the names of the movies on the y-axis and the total gross on the x-axis.\n",
    "2. The studio names on the y-axis and the total money (from Total_Gross) they earn from their movies in the top20 on the x-axis. \n",
    "\n",
    "Don't forget to label the axes.\n",
    "Hint: For each plot, you can create a new DataFrame which contains only the data you want and then apply `plot` method."
   ]
  },
  {
   "cell_type": "code",
   "execution_count": 329,
   "metadata": {
    "collapsed": true
   },
   "outputs": [],
   "source": [
    "top10=df_box.sort_values('Total_Gross',ascending=False)[0:10]"
   ]
  },
  {
   "cell_type": "code",
   "execution_count": 330,
   "metadata": {
    "collapsed": true
   },
   "outputs": [],
   "source": [
    "top10=top10.drop(['Studio','Theaters_Total','Opening','Theaters_Opening'],axis=1)"
   ]
  },
  {
   "cell_type": "code",
   "execution_count": 331,
   "metadata": {
    "collapsed": true
   },
   "outputs": [],
   "source": [
    "top10=top10.set_index('Movie_Title')"
   ]
  },
  {
   "cell_type": "code",
   "execution_count": 332,
   "metadata": {},
   "outputs": [
    {
     "data": {
      "image/png": "[encoded data removed]",
      "text/plain": [
       "<matplotlib.figure.Figure at 0x1891b540e80>"
      ]
     },
     "metadata": {},
     "output_type": "display_data"
    }
   ],
   "source": [
    "fig,(ax1,ax2)=plt.subplots(2,1,figsize=[20,10])\n",
    "top10.plot(kind='barh',ax=ax1,fontsize=20)\n",
    "ax1.set_xlabel('Movie\\'s Total Gross', fontsize=20)\n",
    "studio_gross.plot(kind='barh', ax=ax2, fontsize=20)\n",
    "ax2.set_xlabel('Studio\\'s Total Gross', fontsize=20)\n",
    "plt.tight_layout()"
   ]
  },
  {
   "cell_type": "code",
   "execution_count": null,
   "metadata": {
    "collapsed": true
   },
   "outputs": [],
   "source": []
  },
  {
   "cell_type": "markdown",
   "metadata": {},
   "source": [
    "## Problem 3 : Linear Regression"
   ]
  },
  {
   "cell_type": "markdown",
   "metadata": {},
   "source": [
    "Download the file \"data_linear_regression_hw5.csv\" and create a DataFrame from this data"
   ]
  },
  {
   "cell_type": "code",
   "execution_count": 333,
   "metadata": {
    "collapsed": true
   },
   "outputs": [],
   "source": [
    "data=pd.read_csv(\"data_linear_regression_hw5(1).csv\")"
   ]
  },
  {
   "cell_type": "code",
   "execution_count": 334,
   "metadata": {},
   "outputs": [
    {
     "data": {
      "text/html": [
       "<div>\n",
       "<style>\n",
       "    .dataframe thead tr:only-child th {\n",
       "        text-align: right;\n",
       "    }\n",
       "\n",
       "    .dataframe thead th {\n",
       "        text-align: left;\n",
       "    }\n",
       "\n",
       "    .dataframe tbody tr th {\n",
       "        vertical-align: top;\n",
       "    }\n",
       "</style>\n",
       "<table border=\"1\" class=\"dataframe\">\n",
       "  <thead>\n",
       "    <tr style=\"text-align: right;\">\n",
       "      <th></th>\n",
       "      <th>x1</th>\n",
       "      <th>x2</th>\n",
       "      <th>x3</th>\n",
       "      <th>y</th>\n",
       "    </tr>\n",
       "  </thead>\n",
       "  <tbody>\n",
       "    <tr>\n",
       "      <th>0</th>\n",
       "      <td>0.148227</td>\n",
       "      <td>0.446577</td>\n",
       "      <td>-1.009014</td>\n",
       "      <td>4.138490</td>\n",
       "    </tr>\n",
       "    <tr>\n",
       "      <th>1</th>\n",
       "      <td>0.353487</td>\n",
       "      <td>-0.648183</td>\n",
       "      <td>0.796402</td>\n",
       "      <td>2.980097</td>\n",
       "    </tr>\n",
       "    <tr>\n",
       "      <th>2</th>\n",
       "      <td>-1.087250</td>\n",
       "      <td>-0.622992</td>\n",
       "      <td>-0.667353</td>\n",
       "      <td>3.507599</td>\n",
       "    </tr>\n",
       "    <tr>\n",
       "      <th>3</th>\n",
       "      <td>0.247096</td>\n",
       "      <td>1.072407</td>\n",
       "      <td>1.910038</td>\n",
       "      <td>17.975063</td>\n",
       "    </tr>\n",
       "    <tr>\n",
       "      <th>4</th>\n",
       "      <td>-0.156840</td>\n",
       "      <td>-0.557375</td>\n",
       "      <td>1.317638</td>\n",
       "      <td>2.496506</td>\n",
       "    </tr>\n",
       "  </tbody>\n",
       "</table>\n",
       "</div>"
      ],
      "text/plain": [
       "         x1        x2        x3          y\n",
       "0  0.148227  0.446577 -1.009014   4.138490\n",
       "1  0.353487 -0.648183  0.796402   2.980097\n",
       "2 -1.087250 -0.622992 -0.667353   3.507599\n",
       "3  0.247096  1.072407  1.910038  17.975063\n",
       "4 -0.156840 -0.557375  1.317638   2.496506"
      ]
     },
     "execution_count": 334,
     "metadata": {},
     "output_type": "execute_result"
    }
   ],
   "source": [
    "data.head()"
   ]
  },
  {
   "cell_type": "markdown",
   "metadata": {},
   "source": [
    "Using the method `head` or `info` you will see that there are 4 columns.   `x1`, `x2`, `x3` are input(independent) variables and `y` is the response(dependent) variable. We will perform ordinary linear regression on this data based on two guesses."
   ]
  },
  {
   "cell_type": "markdown",
   "metadata": {},
   "source": [
    "**1st model:** $y = \\beta_0 + \\beta_1 x_1 + \\beta_2 x_2 + \\beta_3 x_3$\n",
    "Perform ordinary linear regression (use `ols` in `statsmodels.formula.api` (we imported this as `smf`)) to find the coefficients \n",
    "- Print out the test statistics using `summary` method."
   ]
  },
  {
   "cell_type": "code",
   "execution_count": 335,
   "metadata": {
    "collapsed": true
   },
   "outputs": [],
   "source": [
    "model=smf.ols('y~x1+x2+x3',data)"
   ]
  },
  {
   "cell_type": "code",
   "execution_count": 336,
   "metadata": {
    "collapsed": true
   },
   "outputs": [],
   "source": [
    "results=model.fit()"
   ]
  },
  {
   "cell_type": "code",
   "execution_count": 337,
   "metadata": {},
   "outputs": [
    {
     "name": "stdout",
     "output_type": "stream",
     "text": [
      "                            OLS Regression Results                            \n",
      "==============================================================================\n",
      "Dep. Variable:                      y   R-squared:                       0.364\n",
      "Model:                            OLS   Adj. R-squared:                  0.322\n",
      "Method:                 Least Squares   F-statistic:                     8.766\n",
      "Date:                Sat, 07 Apr 2018   Prob (F-statistic):           0.000105\n",
      "Time:                        16:07:24   Log-Likelihood:                -170.25\n",
      "No. Observations:                  50   AIC:                             348.5\n",
      "Df Residuals:                      46   BIC:                             356.2\n",
      "Df Model:                           3                                         \n",
      "Covariance Type:            nonrobust                                         \n",
      "==============================================================================\n",
      "                 coef    std err          t      P>|t|      [0.025      0.975]\n",
      "------------------------------------------------------------------------------\n",
      "Intercept      3.9764      1.081      3.680      0.001       1.801       6.152\n",
      "x1            -0.0676      1.061     -0.064      0.949      -2.203       2.068\n",
      "x2             6.0327      1.290      4.678      0.000       3.437       8.629\n",
      "x3             2.7438      0.985      2.786      0.008       0.761       4.726\n",
      "==============================================================================\n",
      "Omnibus:                        6.370   Durbin-Watson:                   1.659\n",
      "Prob(Omnibus):                  0.041   Jarque-Bera (JB):                7.000\n",
      "Skew:                          -0.419   Prob(JB):                       0.0302\n",
      "Kurtosis:                       4.631   Cond. No.                         1.40\n",
      "==============================================================================\n",
      "\n",
      "Warnings:\n",
      "[1] Standard Errors assume that the covariance matrix of the errors is correctly specified.\n"
     ]
    }
   ],
   "source": [
    "print(results.summary())"
   ]
  },
  {
   "cell_type": "markdown",
   "metadata": {},
   "source": [
    "Answer the following questions:\n",
    "-  What are the cofficients $\\beta_0, \\beta_1, \\beta_2, \\beta_3 $ (in our model: $y = \\beta_0 + \\beta_1 x_1 + \\beta_2 x_2 + \\beta_3 x_3$)?\n",
    "-  What is the R-squared of our first model? Do you think this model fits the data very well?  Why?\n"
   ]
  },
  {
   "cell_type": "markdown",
   "metadata": {},
   "source": [
    "[your answer here]: β0 = 3.9764, β1= -0.0676, β2= 6.0327, β4= 2.7438, R-Squared = 0.364. I don't think that this model fits our data well. I say this because the R-Squared vaue is far from 1. "
   ]
  },
  {
   "cell_type": "markdown",
   "metadata": {},
   "source": [
    "Let's try to include all interaction terms of the input variables $x_1, x_2, x_3$.\n",
    "\n",
    "**2st model:** $y = \\beta_0 + \\beta_1 x_1 + \\beta_2 x_2 + \\beta_3 x_3 + \\beta_4 x_1 x_2 \n",
    "+ \\beta_5 x_1 x_3 + \\beta_6 x_2 x_3 $\n",
    "\n",
    "- Perform ordinary linear regression (use `ols` in `statsmodels.formula.api` (we imported this as `smf`)) to find the coefficients \n",
    "- Print out the test statistics using `summary` method."
   ]
  },
  {
   "cell_type": "code",
   "execution_count": 338,
   "metadata": {
    "collapsed": true
   },
   "outputs": [],
   "source": [
    "models=smf.ols('y~x1+x2+x3+x1*x2+x1*x3+x2*x3', data)"
   ]
  },
  {
   "cell_type": "code",
   "execution_count": 339,
   "metadata": {
    "collapsed": true
   },
   "outputs": [],
   "source": [
    "results=models.fit()"
   ]
  },
  {
   "cell_type": "code",
   "execution_count": 340,
   "metadata": {},
   "outputs": [
    {
     "name": "stdout",
     "output_type": "stream",
     "text": [
      "                            OLS Regression Results                            \n",
      "==============================================================================\n",
      "Dep. Variable:                      y   R-squared:                       0.997\n",
      "Model:                            OLS   Adj. R-squared:                  0.997\n",
      "Method:                 Least Squares   F-statistic:                     2590.\n",
      "Date:                Sat, 07 Apr 2018   Prob (F-statistic):           2.50e-53\n",
      "Time:                        16:07:28   Log-Likelihood:                -34.241\n",
      "No. Observations:                  50   AIC:                             82.48\n",
      "Df Residuals:                      43   BIC:                             95.87\n",
      "Df Model:                           6                                         \n",
      "Covariance Type:            nonrobust                                         \n",
      "==============================================================================\n",
      "                 coef    std err          t      P>|t|      [0.025      0.975]\n",
      "------------------------------------------------------------------------------\n",
      "Intercept      3.9590      0.075     53.017      0.000       3.808       4.110\n",
      "x1             3.1222      0.080     38.840      0.000       2.960       3.284\n",
      "x2             4.9514      0.089     55.775      0.000       4.772       5.130\n",
      "x3             2.0158      0.069     29.417      0.000       1.878       2.154\n",
      "x1:x2          3.9754      0.102     39.140      0.000       3.771       4.180\n",
      "x1:x3          6.0570      0.063     95.603      0.000       5.929       6.185\n",
      "x2:x3         -0.0775      0.082     -0.945      0.350      -0.243       0.088\n",
      "==============================================================================\n",
      "Omnibus:                        2.916   Durbin-Watson:                   2.176\n",
      "Prob(Omnibus):                  0.233   Jarque-Bera (JB):                2.262\n",
      "Skew:                          -0.518   Prob(JB):                        0.323\n",
      "Kurtosis:                       3.110   Cond. No.                         2.09\n",
      "==============================================================================\n",
      "\n",
      "Warnings:\n",
      "[1] Standard Errors assume that the covariance matrix of the errors is correctly specified.\n"
     ]
    }
   ],
   "source": [
    "print(results.summary())"
   ]
  },
  {
   "cell_type": "markdown",
   "metadata": {},
   "source": [
    "Answer the following questions:\n",
    "-  What are the cofficients $\\beta_0, \\beta_1, ..., \\beta_6 $ in this model?\n",
    "-  What is the R-squared of our second model? Do you think this model fits the data very well?  Why?"
   ]
  },
  {
   "cell_type": "markdown",
   "metadata": {},
   "source": [
    "##### [your answer here]: β0= 3.9590, β1= 3.1222, β2= 4.9514, β3= 2.0158, β4 = 3.9754, β5=6.0570, β6 = -0.0775. The R-Squared value of this model is 0.997. I think this model fits this data well because the R-Squared value is close to 1. "
   ]
  },
  {
   "cell_type": "code",
   "execution_count": null,
   "metadata": {
    "collapsed": true
   },
   "outputs": [],
   "source": []
  },
  {
   "cell_type": "code",
   "execution_count": null,
   "metadata": {
    "collapsed": true
   },
   "outputs": [],
   "source": []
  }
 ],
 "metadata": {
  "kernelspec": {
   "display_name": "Python 3",
   "language": "python",
   "name": "python3"
  },
  "language_info": {
   "codemirror_mode": {
    "name": "ipython",
    "version": 3
   },
   "file_extension": ".py",
   "mimetype": "text/x-python",
   "name": "python",
   "nbconvert_exporter": "python",
   "pygments_lexer": "ipython3",
   "version": "3.6.3"
  }
 },
 "nbformat": 4,
 "nbformat_minor": 2
}
