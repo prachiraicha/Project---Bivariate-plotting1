{
 "cells": [
  {
   "cell_type": "markdown",
   "metadata": {},
   "source": [
    "# AMS 561 Assignment 6: Machine Learning  and R Programming"
   ]
  },
  {
   "cell_type": "markdown",
   "metadata": {},
   "source": [
    "We will use Scikit-Learn library to perform machine learning on some data in problems 1 and 2."
   ]
  },
  {
   "cell_type": "code",
   "execution_count": 20,
   "metadata": {},
   "outputs": [],
   "source": [
    "from sklearn import datasets\n",
    "from sklearn import cross_validation \n",
    "from sklearn import linear_model\n",
    "from sklearn import metrics\n",
    "from sklearn import tree\n",
    "from sklearn import neighbors\n",
    "from sklearn import svm\n",
    "from sklearn import ensemble\n",
    "from sklearn import cluster\n",
    "\n",
    "import numpy as np\n",
    "%matplotlib inline\n",
    "import matplotlib.pyplot as plt\n",
    "import seaborn as sns\n",
    "\n",
    "np.random.seed(555)  "
   ]
  },
  {
   "cell_type": "markdown",
   "metadata": {},
   "source": [
    "## Problem 1: Machine Learning - Classification\n",
    "In problems 1 and 2, we will work with the optical recognition of handwritten digits data. First, let's load this data from Scikit-Learn datasets:"
   ]
  },
  {
   "cell_type": "code",
   "execution_count": 21,
   "metadata": {
    "collapsed": true
   },
   "outputs": [],
   "source": [
    "from sklearn.datasets import load_digits\n",
    "digits = load_digits()"
   ]
  },
  {
   "cell_type": "code",
   "execution_count": 22,
   "metadata": {
    "scrolled": true
   },
   "outputs": [
    {
     "data": {
      "text/plain": [
       "{'DESCR': \"Optical Recognition of Handwritten Digits Data Set\\n===================================================\\n\\nNotes\\n-----\\nData Set Characteristics:\\n    :Number of Instances: 5620\\n    :Number of Attributes: 64\\n    :Attribute Information: 8x8 image of integer pixels in the range 0..16.\\n    :Missing Attribute Values: None\\n    :Creator: E. Alpaydin (alpaydin '@' boun.edu.tr)\\n    :Date: July; 1998\\n\\nThis is a copy of the test set of the UCI ML hand-written digits datasets\\nhttp://archive.ics.uci.edu/ml/datasets/Optical+Recognition+of+Handwritten+Digits\\n\\nThe data set contains images of hand-written digits: 10 classes where\\neach class refers to a digit.\\n\\nPreprocessing programs made available by NIST were used to extract\\nnormalized bitmaps of handwritten digits from a preprinted form. From a\\ntotal of 43 people, 30 contributed to the training set and different 13\\nto the test set. 32x32 bitmaps are divided into nonoverlapping blocks of\\n4x4 and the number of on pixels are counted in each block. This generates\\nan input matrix of 8x8 where each element is an integer in the range\\n0..16. This reduces dimensionality and gives invariance to small\\ndistortions.\\n\\nFor info on NIST preprocessing routines, see M. D. Garris, J. L. Blue, G.\\nT. Candela, D. L. Dimmick, J. Geist, P. J. Grother, S. A. Janet, and C.\\nL. Wilson, NIST Form-Based Handprint Recognition System, NISTIR 5469,\\n1994.\\n\\nReferences\\n----------\\n  - C. Kaynak (1995) Methods of Combining Multiple Classifiers and Their\\n    Applications to Handwritten Digit Recognition, MSc Thesis, Institute of\\n    Graduate Studies in Science and Engineering, Bogazici University.\\n  - E. Alpaydin, C. Kaynak (1998) Cascading Classifiers, Kybernetika.\\n  - Ken Tang and Ponnuthurai N. Suganthan and Xi Yao and A. Kai Qin.\\n    Linear dimensionalityreduction using relevance weighted LDA. School of\\n    Electrical and Electronic Engineering Nanyang Technological University.\\n    2005.\\n  - Claudio Gentile. A New Approximate Maximal Margin Classification\\n    Algorithm. NIPS. 2000.\\n\",\n",
       " 'data': array([[ 0.,  0.,  5., ...,  0.,  0.,  0.],\n",
       "        [ 0.,  0.,  0., ..., 10.,  0.,  0.],\n",
       "        [ 0.,  0.,  0., ..., 16.,  9.,  0.],\n",
       "        ...,\n",
       "        [ 0.,  0.,  1., ...,  6.,  0.,  0.],\n",
       "        [ 0.,  0.,  2., ..., 12.,  0.,  0.],\n",
       "        [ 0.,  0., 10., ..., 12.,  1.,  0.]]),\n",
       " 'images': array([[[ 0.,  0.,  5., ...,  1.,  0.,  0.],\n",
       "         [ 0.,  0., 13., ..., 15.,  5.,  0.],\n",
       "         [ 0.,  3., 15., ..., 11.,  8.,  0.],\n",
       "         ...,\n",
       "         [ 0.,  4., 11., ..., 12.,  7.,  0.],\n",
       "         [ 0.,  2., 14., ..., 12.,  0.,  0.],\n",
       "         [ 0.,  0.,  6., ...,  0.,  0.,  0.]],\n",
       " \n",
       "        [[ 0.,  0.,  0., ...,  5.,  0.,  0.],\n",
       "         [ 0.,  0.,  0., ...,  9.,  0.,  0.],\n",
       "         [ 0.,  0.,  3., ...,  6.,  0.,  0.],\n",
       "         ...,\n",
       "         [ 0.,  0.,  1., ...,  6.,  0.,  0.],\n",
       "         [ 0.,  0.,  1., ...,  6.,  0.,  0.],\n",
       "         [ 0.,  0.,  0., ..., 10.,  0.,  0.]],\n",
       " \n",
       "        [[ 0.,  0.,  0., ..., 12.,  0.,  0.],\n",
       "         [ 0.,  0.,  3., ..., 14.,  0.,  0.],\n",
       "         [ 0.,  0.,  8., ..., 16.,  0.,  0.],\n",
       "         ...,\n",
       "         [ 0.,  9., 16., ...,  0.,  0.,  0.],\n",
       "         [ 0.,  3., 13., ..., 11.,  5.,  0.],\n",
       "         [ 0.,  0.,  0., ..., 16.,  9.,  0.]],\n",
       " \n",
       "        ...,\n",
       " \n",
       "        [[ 0.,  0.,  1., ...,  1.,  0.,  0.],\n",
       "         [ 0.,  0., 13., ...,  2.,  1.,  0.],\n",
       "         [ 0.,  0., 16., ..., 16.,  5.,  0.],\n",
       "         ...,\n",
       "         [ 0.,  0., 16., ..., 15.,  0.,  0.],\n",
       "         [ 0.,  0., 15., ..., 16.,  0.,  0.],\n",
       "         [ 0.,  0.,  2., ...,  6.,  0.,  0.]],\n",
       " \n",
       "        [[ 0.,  0.,  2., ...,  0.,  0.,  0.],\n",
       "         [ 0.,  0., 14., ..., 15.,  1.,  0.],\n",
       "         [ 0.,  4., 16., ..., 16.,  7.,  0.],\n",
       "         ...,\n",
       "         [ 0.,  0.,  0., ..., 16.,  2.,  0.],\n",
       "         [ 0.,  0.,  4., ..., 16.,  2.,  0.],\n",
       "         [ 0.,  0.,  5., ..., 12.,  0.,  0.]],\n",
       " \n",
       "        [[ 0.,  0., 10., ...,  1.,  0.,  0.],\n",
       "         [ 0.,  2., 16., ...,  1.,  0.,  0.],\n",
       "         [ 0.,  0., 15., ..., 15.,  0.,  0.],\n",
       "         ...,\n",
       "         [ 0.,  4., 16., ..., 16.,  6.,  0.],\n",
       "         [ 0.,  8., 16., ..., 16.,  8.,  0.],\n",
       "         [ 0.,  1.,  8., ..., 12.,  1.,  0.]]]),\n",
       " 'target': array([0, 1, 2, ..., 8, 9, 8]),\n",
       " 'target_names': array([0, 1, 2, 3, 4, 5, 6, 7, 8, 9])}"
      ]
     },
     "execution_count": 22,
     "metadata": {},
     "output_type": "execute_result"
    }
   ],
   "source": [
    "digits"
   ]
  },
  {
   "cell_type": "code",
   "execution_count": 23,
   "metadata": {},
   "outputs": [
    {
     "name": "stdout",
     "output_type": "stream",
     "text": [
      "(1797, 8, 8)\n"
     ]
    }
   ],
   "source": [
    "print(digits.images.shape)"
   ]
  },
  {
   "cell_type": "markdown",
   "metadata": {},
   "source": [
    "As you can see, this dataset has a similar dictionary structure including keys:\n",
    "- `DESCR`  : describes the dataset\n",
    "- `images` : it's a three-dimensional array ( 1,797 samples, each consisting of a 8x8 grid of pixels)\n",
    "- `data` : contains an array with one row per sample and one column per feature\n",
    "- `target`: contains an array with labels  "
   ]
  },
  {
   "cell_type": "markdown",
   "metadata": {},
   "source": [
    "Let's visualize the digits data. The code below plots the first 100 images with the corresponding labels in green."
   ]
  },
  {
   "cell_type": "code",
   "execution_count": 24,
   "metadata": {},
   "outputs": [
    {
     "data": {
      "image/png": "[encoded data removed]",
      "text/plain": [
       "<matplotlib.figure.Figure at 0x1a1346a898>"
      ]
     },
     "metadata": {},
     "output_type": "display_data"
    }
   ],
   "source": [
    "# plot the digits: each image is 8x8 pixels\n",
    "fig, axes = plt.subplots(10, 10, figsize=(8, 8),\n",
    "                         subplot_kw={'xticks':[], 'yticks':[]},\n",
    "                         gridspec_kw=dict(hspace=0.1, wspace=0.1))\n",
    "\n",
    "for i, ax in enumerate(axes.flat):\n",
    "    ax.imshow(digits.images[i], cmap='binary', interpolation='nearest')\n",
    "    ax.text(0.05, 0.05, str(digits.target[i]),\n",
    "            transform=ax.transAxes, color='green')"
   ]
  },
  {
   "cell_type": "markdown",
   "metadata": {},
   "source": [
    "We will assign the features data to X and the target (labels) to y:  "
   ]
  },
  {
   "cell_type": "code",
   "execution_count": 25,
   "metadata": {
    "scrolled": true
   },
   "outputs": [
    {
     "name": "stdout",
     "output_type": "stream",
     "text": [
      "(1797, 64)\n",
      "(1797,)\n"
     ]
    }
   ],
   "source": [
    "X = digits.data\n",
    "y = digits.target\n",
    "print(X.shape)\n",
    "print(y.shape)"
   ]
  },
  {
   "cell_type": "markdown",
   "metadata": {},
   "source": [
    "Note that there are 1,797 samples and 64 features."
   ]
  },
  {
   "cell_type": "markdown",
   "metadata": {},
   "source": [
    "1) Split the data into a training set (with 70% of the data) and a testing set. Name the variables `X_train, X_test, y_train, y_test`.  Display the size of `X_train`."
   ]
  },
  {
   "cell_type": "code",
   "execution_count": 26,
   "metadata": {},
   "outputs": [
    {
     "name": "stdout",
     "output_type": "stream",
     "text": [
      "(1257, 64)\n"
     ]
    }
   ],
   "source": [
    "#your code:\n",
    "X_train, X_test, y_train, y_test = cross_validation.train_test_split(X, y, train_size = 0.7)\n",
    "print(X_train.shape)"
   ]
  },
  {
   "cell_type": "markdown",
   "metadata": {},
   "source": [
    "We will apply different classification algorithms to the digits data.\n",
    "- decision trees\n",
    "- random forest method\n",
    "- support-vector machine with linear kernel "
   ]
  },
  {
   "cell_type": "markdown",
   "metadata": {},
   "source": [
    "2) Classify the digits using the decision trees classifer. (Perform the \"training\" on the training set and make a prediction on the testing set (`X_test`) )"
   ]
  },
  {
   "cell_type": "code",
   "execution_count": 27,
   "metadata": {
    "collapsed": true
   },
   "outputs": [],
   "source": [
    "# your code:\n",
    "# decision trees \n",
    "classify = tree.DecisionTreeClassifier()\n",
    "classify.fit(X_train, y_train)\n",
    "y_test_pred = classify.predict(X_test)"
   ]
  },
  {
   "cell_type": "markdown",
   "metadata": {},
   "source": [
    "3) Display the classification report for this classifier."
   ]
  },
  {
   "cell_type": "code",
   "execution_count": 28,
   "metadata": {},
   "outputs": [
    {
     "name": "stdout",
     "output_type": "stream",
     "text": [
      "             precision    recall  f1-score   support\n",
      "\n",
      "          0       0.98      0.93      0.95        54\n",
      "          1       0.75      0.84      0.79        45\n",
      "          2       0.88      0.91      0.89        55\n",
      "          3       0.82      0.79      0.80        52\n",
      "          4       0.80      0.93      0.86        57\n",
      "          5       0.83      0.89      0.86        45\n",
      "          6       0.98      0.96      0.97        57\n",
      "          7       0.93      0.77      0.85        53\n",
      "          8       0.79      0.71      0.75        59\n",
      "          9       0.83      0.84      0.83        63\n",
      "\n",
      "avg / total       0.86      0.86      0.86       540\n",
      "\n"
     ]
    }
   ],
   "source": [
    "print(metrics.classification_report(y_test,y_test_pred))"
   ]
  },
  {
   "cell_type": "markdown",
   "metadata": {},
   "source": [
    "4) Compute the \"accuracy score\" (`metrics.accuracy_score`) of the prediction on the testing set. The documentation is [here](http://scikit-learn.org/stable/modules/generated/sklearn.metrics.accuracy_score.html) (Use only the first two arguments (`y_true` and `y_pred`) and leave everything else default)."
   ]
  },
  {
   "cell_type": "code",
   "execution_count": 29,
   "metadata": {
    "scrolled": true
   },
   "outputs": [
    {
     "name": "stdout",
     "output_type": "stream",
     "text": [
      "0.8574074074074074\n"
     ]
    }
   ],
   "source": [
    "print(metrics.accuracy_score(y_test,y_test_pred))"
   ]
  },
  {
   "cell_type": "markdown",
   "metadata": {},
   "source": [
    "5) Compute the confusion matrix for this classifier. Display the result."
   ]
  },
  {
   "cell_type": "code",
   "execution_count": 30,
   "metadata": {},
   "outputs": [
    {
     "name": "stdout",
     "output_type": "stream",
     "text": [
      "[[50  0  1  0  1  1  0  0  0  1]\n",
      " [ 0 38  1  2  1  0  0  1  2  0]\n",
      " [ 0  1 50  0  0  1  0  0  2  1]\n",
      " [ 0  0  1 41  0  1  1  0  5  3]\n",
      " [ 0  1  0  0 53  1  0  0  1  1]\n",
      " [ 0  0  0  3  0 40  0  0  1  1]\n",
      " [ 0  2  0  0  0  0 55  0  0  0]\n",
      " [ 0  1  1  0  7  0  0 41  0  3]\n",
      " [ 0  6  2  3  3  1  0  1 42  1]\n",
      " [ 1  2  1  1  1  3  0  1  0 53]]\n"
     ]
    }
   ],
   "source": [
    "print(metrics.confusion_matrix(y_test,y_test_pred))"
   ]
  },
  {
   "cell_type": "markdown",
   "metadata": {},
   "source": [
    "6) From the confusion matrix, answer the following questions:\n",
    "- Is there any digit that was 100% correctly predicted?  If yes, what is it?\n",
    "- How many samples of digit 8 were categorized as digit 1 ?\n",
    "- What is the largest number of samples that were incorrectly classified?  What digit is it? "
   ]
  },
  {
   "cell_type": "markdown",
   "metadata": {},
   "source": [
    "(your answer): There was no digit that was 100% correctly predicted. Out of our samples, 6 were categorized as 1 digit. The largest number of samples that were incorrectly classified were the digit 7 being incorrectly classified as the digit 4 a total of 7 times."
   ]
  },
  {
   "cell_type": "markdown",
   "metadata": {},
   "source": [
    "7) Use the random forest classifer to perform the same task. \n",
    "- Perform the \"training\" on the training set and make a prediction on the testing set (`X_test`)\n",
    "- Compute the \"accuracy score\"\n",
    "- Display the confusion matrix"
   ]
  },
  {
   "cell_type": "code",
   "execution_count": 31,
   "metadata": {},
   "outputs": [
    {
     "name": "stdout",
     "output_type": "stream",
     "text": [
      "0.9444444444444444\n",
      "[[54  0  0  0  0  0  0  0  0  0]\n",
      " [ 0 45  0  0  0  0  0  0  0  0]\n",
      " [ 0  2 52  0  0  0  0  0  1  0]\n",
      " [ 0  0  0 51  0  0  0  0  1  0]\n",
      " [ 0  0  0  0 57  0  0  0  0  0]\n",
      " [ 0  2  0  1  1 40  0  0  0  1]\n",
      " [ 0  1  0  0  0  0 55  0  1  0]\n",
      " [ 0  0  0  0  0  0  0 52  1  0]\n",
      " [ 0  6  0  3  0  1  0  0 49  0]\n",
      " [ 0  0  0  0  0  4  0  1  3 55]]\n"
     ]
    }
   ],
   "source": [
    "#your code: (random forest)\n",
    "classify = ensemble.RandomForestClassifier()\n",
    "classify.fit(X_train, y_train)\n",
    "y_test_pred = classify.predict(X_test)\n",
    "print(metrics.accuracy_score(y_test,y_test_pred))\n",
    "print(metrics.confusion_matrix(y_test, y_test_pred))"
   ]
  },
  {
   "cell_type": "markdown",
   "metadata": {},
   "source": [
    "8) Use the support-vector machine (with 'linear' kernel) as the classifer.\n",
    "- Perform the \"training\" on the training set and make a prediction on the testing set (`X_test`)\n",
    "- Compute the \"accuracy score\"\n",
    "- Display the confusion matrix"
   ]
  },
  {
   "cell_type": "code",
   "execution_count": 32,
   "metadata": {},
   "outputs": [
    {
     "name": "stdout",
     "output_type": "stream",
     "text": [
      "0.9833333333333333\n",
      "[[54  0  0  0  0  0  0  0  0  0]\n",
      " [ 0 44  0  0  0  0  0  0  1  0]\n",
      " [ 0  0 55  0  0  0  0  0  0  0]\n",
      " [ 0  0  0 51  0  0  0  0  0  1]\n",
      " [ 0  0  0  0 57  0  0  0  0  0]\n",
      " [ 0  0  0  0  0 44  0  0  0  1]\n",
      " [ 0  0  0  0  0  0 56  0  1  0]\n",
      " [ 0  0  0  0  1  0  0 52  0  0]\n",
      " [ 0  1  0  0  0  1  0  0 57  0]\n",
      " [ 0  0  0  0  0  1  0  0  1 61]]\n"
     ]
    }
   ],
   "source": [
    "#your code: (svm)\n",
    "classify = svm.SVC(kernel='linear')\n",
    "classify.fit(X_train, y_train)\n",
    "y_test_pred = classify.predict(X_test)\n",
    "print(metrics.accuracy_score(y_test,y_test_pred))\n",
    "print(metrics.confusion_matrix(y_test, y_test_pred))"
   ]
  },
  {
   "cell_type": "markdown",
   "metadata": {},
   "source": [
    "9) Among these three classifiers, which one do you think does the best job at classifying digits?  Why?"
   ]
  },
  {
   "cell_type": "markdown",
   "metadata": {},
   "source": [
    "answer: I think that the best of the three classifiers, would be the one that classifies the digits the most accurately, which would be the support-vector machine and linear kernal classifier. "
   ]
  },
  {
   "cell_type": "markdown",
   "metadata": {},
   "source": [
    "## Problem 2: Machine Learning - Clustering\n",
    "We will still consider the handwritten digits data. (Note that we have saved the feature data in the variable `X` (we are not splitting the data into a training set and a testing set)).  We will try to identify similar digits without using the original label data (`y`). "
   ]
  },
  {
   "cell_type": "markdown",
   "metadata": {},
   "source": [
    "1) Perform K-means method on the data `X` and assign the prediction to the variable name `y_pred`"
   ]
  },
  {
   "cell_type": "code",
   "execution_count": 33,
   "metadata": {},
   "outputs": [
    {
     "name": "stdout",
     "output_type": "stream",
     "text": [
      "[0 1 1 ... 1 2 2]\n",
      "[0 1 2 ... 8 9 8]\n"
     ]
    }
   ],
   "source": [
    "clusters = cluster.KMeans(n_clusters=10)\n",
    "clusters.fit(X)\n",
    "y_pred=clusters.predict(X)\n",
    "print(y_pred)\n",
    "print(y)"
   ]
  },
  {
   "cell_type": "markdown",
   "metadata": {},
   "source": [
    "2) If you print out `y_pred` and `y` (the correct labels), you will see that although the label names don't match. Run the cell below to rename the elements in y_pred so that the labels match. "
   ]
  },
  {
   "cell_type": "code",
   "execution_count": 34,
   "metadata": {
    "collapsed": true
   },
   "outputs": [],
   "source": [
    "from scipy.stats import mode\n",
    "y_pred_labels = np.zeros_like(y_pred)\n",
    "for i in range(10):\n",
    "    mask = (y_pred==i)\n",
    "    y_pred_labels[mask] = mode(y[mask])[0]"
   ]
  },
  {
   "cell_type": "markdown",
   "metadata": {},
   "source": [
    "3) Print out the classification report and the accuracy score."
   ]
  },
  {
   "cell_type": "code",
   "execution_count": 35,
   "metadata": {},
   "outputs": [
    {
     "name": "stdout",
     "output_type": "stream",
     "text": [
      "0.7946577629382304\n"
     ]
    }
   ],
   "source": [
    "print(metrics.accuracy_score(y,y_pred_labels))"
   ]
  },
  {
   "cell_type": "markdown",
   "metadata": {},
   "source": [
    "4) Print out the confusion matrix"
   ]
  },
  {
   "cell_type": "code",
   "execution_count": 36,
   "metadata": {},
   "outputs": [
    {
     "name": "stdout",
     "output_type": "stream",
     "text": [
      "[[177   0   0   0   1   0   0   0   0   0]\n",
      " [  0  54  24   1   0   1   2   0 100   0]\n",
      " [  1   2 148  13   0   0   0   3   8   2]\n",
      " [  0   0   1 155   0   2   0   7   7  11]\n",
      " [  0   3   0   0 166   0   0  10   2   0]\n",
      " [  0   0   0   1   2 136   1   0   0  42]\n",
      " [  1   0   0   0   0   0 177   0   3   0]\n",
      " [  0   2   0   0   0   1   0 174   2   0]\n",
      " [  0   6   3   4   0   4   2   5 102  48]\n",
      " [  0  20   0   6   0   6   0   8   1 139]]\n"
     ]
    }
   ],
   "source": [
    "print(metrics.confusion_matrix(y, y_pred_labels))"
   ]
  },
  {
   "cell_type": "markdown",
   "metadata": {},
   "source": [
    "5) Which pair of digits is the most confusion? (In other words, which digit was incorrectly classified the most? (and classified as what digit?) )"
   ]
  },
  {
   "cell_type": "markdown",
   "metadata": {},
   "source": [
    "your answer here: The pair of digits with the most confusion is 1 and 8, the 1 digit was accidently classified as 8. "
   ]
  },
  {
   "cell_type": "markdown",
   "metadata": {},
   "source": [
    "## Problem 3: R programming\n",
    "(This problem is Exercise 2.4 from the lecture slide https://bilgcan.github.io/RBootcamp-Day1/) \n",
    "We will start by running the following code in R:\n",
    "```\n",
    "january <- matrix(1:31, nrow = 5, ncol = 7, byrow = T)\n",
    "## Warning in matrix(1:31, nrow = 5, ncol = 7, byrow = T): data length [31] is\n",
    "## not a sub-multiple or multiple of the number of rows [5]\n",
    "colnames(january) <- c(\"monday\", \"tuesday\", \"wednesday\", \"thursday\", \"friday\", \"saturday\", \"sunday\")\n",
    "rownames(january) <- c(\"week 1\", \"week 2\", \"week 3\", \"week 4\", \"week 5\")\n",
    "\n",
    "```\n",
    "We've just created a matrix and assigned names to the rows and the columns.\n",
    "Do the following (for each one, copy and paste your code and result in between the triple quotes in the Markdown cell below):\n",
    "\n",
    "1) Remove Saturday and Sunday columns from January"
   ]
  },
  {
   "cell_type": "markdown",
   "metadata": {},
   "source": [
    "Your code:\n",
    "```\n",
    "january <- subset(january,select=monday:friday); january\n",
    "```\n",
    "Your result:\n",
    "```\n",
    "       monday tuesday wednesday thursday friday\n",
    "week 1      1       2         3        4      5\n",
    "week 2      8       9        10       11     12\n",
    "week 3     15      16        17       18     19\n",
    "week 4     22      23        24       25     26\n",
    "week 5     29      30        31        1      2\n",
    "```"
   ]
  },
  {
   "cell_type": "markdown",
   "metadata": {},
   "source": [
    "2) You called in sick from 9th to 11th. Replace those days in the matrix with \"sick\". How has the other entries in the matrix changed?"
   ]
  },
  {
   "cell_type": "markdown",
   "metadata": {},
   "source": [
    "Your code:\n",
    "```\n",
    "january[january=c(7,12,17)] <- 'sick'; january\n",
    "\n",
    "```\n",
    "Your result:\n",
    "```\n",
    "       monday tuesday wednesday thursday friday\n",
    "week 1 \"1\"    \"2\"     \"3\"       \"4\"      \"5\"   \n",
    "week 2 \"8\"    \"sick\"  \"sick\"    \"sick\"   \"12\"  \n",
    "week 3 \"15\"   \"16\"    \"17\"      \"18\"     \"19\"  \n",
    "week 4 \"22\"   \"23\"    \"24\"      \"25\"     \"26\"  \n",
    "week 5 \"29\"   \"30\"    \"31\"      \"1\"      \"2\"  \n",
    "\n",
    "```\n",
    "Your answer to the question:\n",
    "The other entries are now strings. "
   ]
  },
  {
   "cell_type": "markdown",
   "metadata": {},
   "source": [
    "3) Replace the remaining days with \"healthy\""
   ]
  },
  {
   "cell_type": "markdown",
   "metadata": {},
   "source": [
    "Your code:\n",
    "```\n",
    "january[january!='sick'] <- 'healthy'; january\n",
    "```\n",
    "Your result:\n",
    "```\n",
    "       monday    tuesday   wednesday thursday  friday   \n",
    "week 1 \"healthy\" \"healthy\" \"healthy\" \"healthy\" \"healthy\"\n",
    "week 2 \"healthy\" \"sick\"    \"sick\"    \"sick\"    \"healthy\"\n",
    "week 3 \"healthy\" \"healthy\" \"healthy\" \"healthy\" \"healthy\"\n",
    "week 4 \"healthy\" \"healthy\" \"healthy\" \"healthy\" \"healthy\"\n",
    "week 5 \"healthy\" \"healthy\" \"healthy\" \"healthy\" \"healthy\"\n",
    "```"
   ]
  },
  {
   "cell_type": "markdown",
   "metadata": {},
   "source": [
    "4) What do you get when you use length() on a matrix? Use also nrow() and ncol() on the same matrix. How are they related to length?"
   ]
  },
  {
   "cell_type": "markdown",
   "metadata": {},
   "source": [
    "Your code:\n",
    "```\n",
    "length(january)\n",
    "nrow(january)\n",
    "ncol(january)\n",
    "\n",
    "```\n",
    "Your result:\n",
    "```\n",
    "25\n",
    "5\n",
    "5\n",
    "```\n",
    "Your answer to the question:\n",
    "The length is equal to the number of rows times the number of columns. \n"
   ]
  }
 ],
 "metadata": {
  "kernelspec": {
   "display_name": "Python 3",
   "language": "python",
   "name": "python3"
  },
  "language_info": {
   "codemirror_mode": {
    "name": "ipython",
    "version": 3
   },
   "file_extension": ".py",
   "mimetype": "text/x-python",
   "name": "python",
   "nbconvert_exporter": "python",
   "pygments_lexer": "ipython3",
   "version": "3.6.3"
  }
 },
 "nbformat": 4,
 "nbformat_minor": 2
}
